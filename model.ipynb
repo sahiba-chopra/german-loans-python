{
 "cells": [
  {
   "cell_type": "code",
   "execution_count": 11,
   "metadata": {},
   "outputs": [
    {
     "name": "stderr",
     "output_type": "stream",
     "text": [
      "/home/sahibachopra/miniconda/envs/ai/lib/python3.6/site-packages/sklearn/ensemble/weight_boosting.py:29: DeprecationWarning: numpy.core.umath_tests is an internal NumPy module and should not be imported. It will be removed in a future NumPy release.\n",
      "  from numpy.core.umath_tests import inner1d\n"
     ]
    }
   ],
   "source": [
    "import pandas as pd\n",
    "import numpy as np\n",
    "from sklearn.model_selection import train_test_split, GridSearchCV\n",
    "from sklearn.pipeline import make_pipeline, FeatureUnion, Pipeline, make_union\n",
    "from utils import *\n",
    "from sklearn.linear_model import LogisticRegression\n",
    "from sklearn.ensemble import RandomForestClassifier"
   ]
  },
  {
   "cell_type": "code",
   "execution_count": 2,
   "metadata": {},
   "outputs": [],
   "source": [
    "credit_data = pd.read_csv('/mnt/c/Users/sahib/Documents/german_data/german_data.csv')\n",
    "train = pd.read_csv('/mnt/c/Users/sahib/Documents/german_data/train.csv')\n",
    "test = pd.read_csv('/mnt/c/Users/sahib/Documents/german_data/test.csv')"
   ]
  },
  {
   "cell_type": "code",
   "execution_count": 6,
   "metadata": {},
   "outputs": [],
   "source": [
    "X = credit_data.loc[:, credit_data.columns != 'Creditability']\n",
    "y = credit_data[\"Creditability\"]\n",
    "X_train, X_validation, y_train, y_validation = train_test_split(X, y, test_size=1/3., random_state=42)"
   ]
  },
  {
   "cell_type": "markdown",
   "metadata": {},
   "source": [
    "### Logistic Regression"
   ]
  },
  {
   "cell_type": "code",
   "execution_count": 10,
   "metadata": {},
   "outputs": [
    {
     "data": {
      "text/plain": [
       "0.7335329341317365"
      ]
     },
     "execution_count": 10,
     "metadata": {},
     "output_type": "execute_result"
    }
   ],
   "source": [
    "pipeline = Pipeline(steps = [\n",
    "        (\"features\", make_union(\n",
    "                ColumnSelector(list(X)),\n",
    "                )),\n",
    "                (\"model\",LogisticRegression(random_state=42))\n",
    "])\n",
    "\n",
    "pipeline.fit(X_train, y_train)\n",
    "\n",
    "pipeline.score(X_validation, y_validation)"
   ]
  },
  {
   "cell_type": "markdown",
   "metadata": {},
   "source": [
    "### Random Forest"
   ]
  },
  {
   "cell_type": "code",
   "execution_count": 16,
   "metadata": {},
   "outputs": [
    {
     "name": "stdout",
     "output_type": "stream",
     "text": [
      "RF Score before CV: 0.7215568862275449\n",
      "RF Score after CV: 0.7604790419161677\n"
     ]
    }
   ],
   "source": [
    "pipeline = Pipeline(steps = [\n",
    "        (\"features\", make_union(\n",
    "                ColumnSelector(list(X)),\n",
    "                )),\n",
    "                (\"model\",RandomForestClassifier(random_state=42))\n",
    "])\n",
    "\n",
    "pipeline.fit(X_train, y_train)\n",
    "\n",
    "pipeline.score(X_validation, y_validation)\n",
    "\n",
    "print(\"RF Score before CV: %s\" % pipeline.score(X_validation, y_validation))\n",
    "\n",
    "hyperparameters = { 'model__max_depth': [50, 70,90],\n",
    "                    'model__min_samples_leaf': [1,2,3]\n",
    "                  }\n",
    "\n",
    "clf = GridSearchCV(pipeline, hyperparameters, cv=5)\n",
    "\n",
    "clf.fit(X_train, y_train)\n",
    "\n",
    "print(\"RF Score after CV: %s\" % clf.score(X_validation, y_validation))"
   ]
  }
 ],
 "metadata": {
  "kernelspec": {
   "display_name": "Python 3",
   "language": "python",
   "name": "python3"
  },
  "language_info": {
   "codemirror_mode": {
    "name": "ipython",
    "version": 3
   },
   "file_extension": ".py",
   "mimetype": "text/x-python",
   "name": "python",
   "nbconvert_exporter": "python",
   "pygments_lexer": "ipython3",
   "version": "3.6.0"
  }
 },
 "nbformat": 4,
 "nbformat_minor": 2
}
